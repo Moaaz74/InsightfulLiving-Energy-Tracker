{
 "cells": [
  {
   "cell_type": "markdown",
   "id": "779b73ed",
   "metadata": {},
   "source": [
    "# Imports "
   ]
  },
  {
   "cell_type": "code",
   "execution_count": 1,
   "id": "9005ec78",
   "metadata": {},
   "outputs": [],
   "source": [
    "import cv2\n",
    "import os\n",
    "import numpy as np\n",
    "import json\n",
    "from kafka import KafkaProducer, KafkaConsumer\n",
    "from cassandra.cluster import Cluster\n",
    "from PIL import Image\n",
    "import tensorflow as tf\n",
    "from tensorflow.keras.applications.vgg16 import preprocess_input\n",
    "import schedule\n",
    "import time\n",
    "import base64\n",
    "import io\n",
    "import requests\n",
    "from keras.applications.vgg16 import VGG16  # Assuming you want to use Keras VGG16\n",
    "from cassandra.util import uuid_from_time"
   ]
  },
  {
   "cell_type": "markdown",
   "id": "a67f458b",
   "metadata": {},
   "source": [
    "# configuration"
   ]
  },
  {
   "cell_type": "code",
   "execution_count": 2,
   "id": "8944e534",
   "metadata": {},
   "outputs": [],
   "source": [
    "# Kafka configuration\n",
    "bootstrap_servers = 'localhost:9092'\n",
    "input_topic = 'input_topic'\n",
    "output_topic = 'output_topicc'\n",
    "\n",
    "# Cassandra configuration\n",
    "cassandra_host = 'localhost'\n",
    "cassandra_keyspace = 'your_keyspace'\n",
    "cassandra_table = 'your_table_name11'\n",
    "\n",
    "# Connect to Kafka\n",
    "consumer = KafkaConsumer(bootstrap_servers=bootstrap_servers)\n",
    "consumer.subscribe([input_topic])\n",
    "\n",
    "# Kafka producer\n",
    "producer = KafkaProducer(bootstrap_servers=bootstrap_servers)\n",
    "\n",
    "\n",
    "# Load the saved model\n",
    "save_model = tf.keras.models.load_model(r'C:\\Users\\AL-FAJR\\Desktop\\Last_GP\\GP_Model\\my_keras_model.h5')\n",
    "class_names = ['fire_images', 'non_fire_images']\n",
    "image_folder = r\"C:\\Users\\AL-FAJR\\Desktop\\Last_GP\\FIRE-SMOKE-DATASET\\Test\\Fire\""
   ]
  },
  {
   "cell_type": "markdown",
   "id": "aed2eb11",
   "metadata": {},
   "source": [
    "# Cassandra"
   ]
  },
  {
   "cell_type": "code",
   "execution_count": 3,
   "id": "f73370f1",
   "metadata": {},
   "outputs": [
    {
     "data": {
      "text/plain": [
       "<cassandra.cluster.ResultSet at 0x1a2d5b53ee0>"
      ]
     },
     "execution_count": 3,
     "metadata": {},
     "output_type": "execute_result"
    }
   ],
   "source": [
    "# Connect to Cassandra\n",
    "cluster = Cluster([cassandra_host])\n",
    "session = cluster.connect()\n",
    "session.execute(f\"CREATE KEYSPACE IF NOT EXISTS {cassandra_keyspace} WITH REPLICATION = {{ 'class' : 'SimpleStrategy', 'replication_factor' : 1 }}\")\n",
    "session.set_keyspace(cassandra_keyspace)\n",
    "session.execute(f\"CREATE TABLE IF NOT EXISTS {cassandra_table} (id UUID  ,userid TEXT, homeid TEXT, email TEXT, phonenumber TEXT, class_name TEXT , image_filename TEXT , created_at TIMESTAMP, PRIMARY KEY (userid,created_at,id) )\")"
   ]
  },
  {
   "cell_type": "markdown",
   "id": "48f60aa2",
   "metadata": {},
   "source": [
    "# Kafka"
   ]
  },
  {
   "cell_type": "code",
   "execution_count": null,
   "id": "d2462d91",
   "metadata": {},
   "outputs": [
    {
     "name": "stdout",
     "output_type": "stream",
     "text": [
      "Received message: b'{\"userid\": \"userid\",\"homeid\": \"homeid\",\"email\":\"email\",\"phonenumber\":\"phonenumber\",\"image_filename\":\"image_49.jpg\"}'\n",
      "1/1 [==============================] - 1s 662ms/step\n",
      "Processed message: b'{\"userid\": \"userid\",\"homeid\": \"homeid\",\"email\":\"email\",\"phonenumber\":\"phonenumber\",\"image_filename\":\"image_49.jpg\"}'\n"
     ]
    }
   ],
   "source": [
    "# Consume messages from Kafka\n",
    "for message in consumer:\n",
    "    try:\n",
    "        # Check if the message is empty\n",
    "        if not message.value:\n",
    "            print(\"Ignoring empty message.\")\n",
    "            continue\n",
    "\n",
    "        # Print the content of the message\n",
    "        print(\"Received message:\", message.value)\n",
    "\n",
    "        # Parse message as JSON\n",
    "        data_dict = json.loads(message.value.decode('utf-8'))\n",
    "\n",
    "        # Extract fields from the JSON\n",
    "        userid = data_dict['userid']\n",
    "        homeid = data_dict['homeid']\n",
    "        email = data_dict['email']\n",
    "        phonenumber = data_dict['phonenumber']\n",
    "\n",
    "        # Read image from folder\n",
    "        image_path = os.path.join(image_folder, data_dict['image_filename'])\n",
    "        image = Image.open(image_path)\n",
    "\n",
    "        # Preprocess image for VGG16\n",
    "        image = image.resize((224, 224))\n",
    "        image = image.convert('RGB')\n",
    "        image_array = preprocess_input(np.array(image))\n",
    "        image_array = np.expand_dims(image_array, axis=0)\n",
    "\n",
    "        # Classify the image\n",
    "        prediction = save_model.predict(image_array)\n",
    "        class_index = np.where(prediction >= 0.5, 1, 0)[0][0]\n",
    "        class_name = class_names[class_index]\n",
    "        probability = float(prediction)\n",
    "       \n",
    "\n",
    "        session.execute(f\"INSERT INTO {cassandra_table} (id, userid, homeid, email, phonenumber, class_name, image_filename, created_at) VALUES (uuid(), '{userid}', '{homeid}', '{email}', '{phonenumber}','{class_name}', '{data_dict['image_filename']}', toTimestamp(now()))\")\n",
    "\n",
    "        # Publish data to another Kafka topic\n",
    "        data_dict['probability'] = probability\n",
    "        data_dict['class_name'] = class_name\n",
    "\n",
    "        # Convert the dictionary to JSON\n",
    "        json_data = json.dumps(data_dict)\n",
    "\n",
    "        # Send the JSON data to the output topic\n",
    "        producer.send(output_topic, value=json_data.encode('utf-8'))\n",
    "\n",
    "        print(\"Processed message:\", message.value)\n",
    "\n",
    "    except Exception as e:\n",
    "        print(\"Error processing message:\", e)\n",
    "\n",
    "# Close Kafka producer and consumer\n",
    "producer.close()\n",
    "consumer.close()\n"
   ]
  },
  {
   "cell_type": "code",
   "execution_count": null,
   "id": "7fe940eb",
   "metadata": {},
   "outputs": [],
   "source": [
    "\n"
   ]
  },
  {
   "cell_type": "code",
   "execution_count": null,
   "id": "4749fda9",
   "metadata": {},
   "outputs": [],
   "source": []
  }
 ],
 "metadata": {
  "kernelspec": {
   "display_name": "Python 3 (ipykernel)",
   "language": "python",
   "name": "python3"
  },
  "language_info": {
   "codemirror_mode": {
    "name": "ipython",
    "version": 3
   },
   "file_extension": ".py",
   "mimetype": "text/x-python",
   "name": "python",
   "nbconvert_exporter": "python",
   "pygments_lexer": "ipython3",
   "version": "3.10.9"
  }
 },
 "nbformat": 4,
 "nbformat_minor": 5
}
