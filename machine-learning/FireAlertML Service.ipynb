{
 "cells": [
  {
   "cell_type": "markdown",
   "id": "779b73ed",
   "metadata": {},
   "source": [
    "# Imports "
   ]
  },
  {
   "cell_type": "code",
   "execution_count": 1,
   "id": "9005ec78",
   "metadata": {},
   "outputs": [],
   "source": [
    "import cv2\n",
    "import os\n",
    "import numpy as np\n",
    "import json\n",
    "from kafka import KafkaProducer, KafkaConsumer\n",
    "from cassandra.cluster import Cluster\n",
    "from PIL import Image\n",
    "import tensorflow as tf\n",
    "from tensorflow.keras.applications.vgg16 import VGG16\n",
    "from tensorflow.keras.applications.vgg16 import preprocess_input\n",
    "import schedule\n",
    "import time\n",
    "import base64\n",
    "import io\n",
    "import requests\n",
    "from keras.applications.vgg16 import VGG16  # Assuming you want to use Keras VGG16\n",
    "from cassandra.util import uuid_from_time"
   ]
  },
  {
   "cell_type": "markdown",
   "id": "a67f458b",
   "metadata": {},
   "source": [
    "# configuration"
   ]
  },
  {
   "cell_type": "code",
   "execution_count": 2,
   "id": "8944e534",
   "metadata": {},
   "outputs": [],
   "source": [
    "# Kafka configuration\n",
    "bootstrap_servers = 'localhost:9092'\n",
    "input_topic = 'photo-topic'\n",
    "output_topic = 'output_topic_net'\n",
    "\n",
    "# Cassandra configuration\n",
    "cassandra_host = 'localhost'\n",
    "cassandra_keyspace = 'Photos'\n",
    "cassandra_table = 'photosFires'\n",
    "\n",
    "# Connect to Kafka\n",
    "consumer = KafkaConsumer(bootstrap_servers=bootstrap_servers)\n",
    "consumer.subscribe([input_topic])\n",
    "\n",
    "# Kafka producer\n",
    "producer = KafkaProducer(bootstrap_servers=bootstrap_servers)\n",
    "\n",
    "\n",
    "# Load the saved model\n",
    "save_model = tf.keras.models.load_model(r'C:\\Users\\AL-FAJR\\Desktop\\New folder (3)\\Last_GP\\GP_Model\\my_keras_model.h5')\n",
    "class_names = ['fire_images', 'non_fire_images']\n",
    "#image_folder = r\"C:\\Users\\AL-FAJR\\Desktop\\Last_GP\\FIRE-SMOKE-DATASET\\Test\\Neutral\""
   ]
  },
  {
   "cell_type": "markdown",
   "id": "aed2eb11",
   "metadata": {},
   "source": [
    "# Cassandra"
   ]
  },
  {
   "cell_type": "code",
   "execution_count": 3,
   "id": "ccfce14b",
   "metadata": {},
   "outputs": [
    {
     "data": {
      "text/plain": [
       "<cassandra.cluster.ResultSet at 0x1bb59d47c40>"
      ]
     },
     "execution_count": 3,
     "metadata": {},
     "output_type": "execute_result"
    }
   ],
   "source": [
    "from cassandra.cluster import Cluster\n",
    "\n",
    "# Connect to Cassandra cluster\n",
    "cluster = Cluster(['127.0.0.1'])  # Provide contact points for your Cassandra cluster\n",
    "session = cluster.connect()\n",
    "\n",
    "# Define keyspace and table names\n",
    "cassandra_keyspace = 'your_keyspace_name'\n",
    "cassandra_table = 'your_table_name'\n",
    "\n",
    "# Create keyspace if it doesn't exist\n",
    "session.execute(f\"CREATE KEYSPACE IF NOT EXISTS {cassandra_keyspace} WITH REPLICATION = {{ 'class' : 'SimpleStrategy', 'replication_factor' : 1 }}\")\n",
    "\n",
    "# Set the keyspace\n",
    "session.set_keyspace(cassandra_keyspace)\n",
    "\n",
    "# Create table if it doesn't exist\n",
    "session.execute(f\"CREATE TABLE IF NOT EXISTS {cassandra_table} (id UUID ,homeId INT,isRead Text,roomId INT, class_name TEXT , image_Path TEXT , DateTime TIMESTAMP, PRIMARY KEY (homeid,id))\")\n"
   ]
  },
  {
   "cell_type": "markdown",
   "id": "0157e3ab",
   "metadata": {},
   "source": [
    "# Email"
   ]
  },
  {
   "cell_type": "code",
   "execution_count": 4,
   "id": "a2bab3e1",
   "metadata": {},
   "outputs": [],
   "source": [
    "import smtplib\n",
    "from email.mime.multipart import MIMEMultipart\n",
    "from email.mime.text import MIMEText\n",
    "\n",
    "def send_email(receiver_email):\n",
    "    # Email configuration\n",
    "    \n",
    "\n",
    "    # Create message\n",
    "    message = MIMEMultipart()\n",
    "    message[\"From\"] = sender_email\n",
    "    message[\"To\"] = receiver_email\n",
    "    message[\"Subject\"] = \"Fire Detect In Your Home\"\n",
    "\n",
    "    # Email body\n",
    "    body = \"Fire Detect In Your Home!\"\n",
    "    message.attach(MIMEText(body, \"plain\"))\n",
    "\n",
    "    # Connect to SMTP server\n",
    "    with smtplib.SMTP(\"smtp.gmail.com\", 587) as server:\n",
    "        server.starttls()\n",
    "        server.login(sender_email, password)\n",
    "        server.sendmail(sender_email, receiver_email, message.as_string())\n",
    "\n",
    "    print(\"Email sent successfully!\")\n",
    "\n",
    "# Call the function with the receiver email as an argument\n",
    "#receiver_email = \"mohamed.essam.anwar2001@gmail.com\"\n",
    "#send_email(receiver_email)\n",
    "\n"
   ]
  },
  {
   "cell_type": "markdown",
   "id": "31f99b06",
   "metadata": {},
   "source": [
    "# requests"
   ]
  },
  {
   "cell_type": "code",
   "execution_count": 5,
   "id": "425fe83d",
   "metadata": {},
   "outputs": [],
   "source": [
    "import requests\n",
    "\n",
    "def get_data(param_value):\n",
    "    # Define the API endpoint URL\n",
    "    api_url = 'http://localhost:62863/Api/Home/GetMl'\n",
    "\n",
    "    # Make the API request with the parameter included in the URL\n",
    "    response = requests.get(f\"{api_url}/{param_value}\")\n",
    "\n",
    "    # Check if the request was successful (status code 200)\n",
    "    if response.status_code == 200:\n",
    "        # Parse the JSON response\n",
    "        data = response.json()\n",
    "\n",
    "        # Extract phoneNumber and email values\n",
    "        phone_number = data.get('phoneNumber')\n",
    "        email = data.get('email')\n",
    "\n",
    "        # Return the extracted values\n",
    "        return phone_number, email\n",
    "    else:\n",
    "        # Print the error message\n",
    "        print(f\"Error: {response.status_code} - {response.text}\")\n",
    "        return None, None\n",
    "\n",
    "# Example usage:\n",
    "#param_value = 1\n",
    "#phone_number, email = get_data(param_value)\n",
    "#if phone_number is not None and email is not None:\n",
    "   # print(\"Phone Number:\", phone_number)\n",
    "   # print(\"Email:\", email)\n"
   ]
  },
  {
   "cell_type": "markdown",
   "id": "18692688",
   "metadata": {},
   "source": [
    "# twilio"
   ]
  },
  {
   "cell_type": "code",
   "execution_count": 6,
   "id": "2e061cd8",
   "metadata": {},
   "outputs": [],
   "source": [
    "from twilio.rest import Client\n",
    "\n",
    "def send_sms(recipient_phone_number):\n",
    "    # Twilio account credentials\n",
    "    message = 'Fire detected!'\n",
    "    \n",
    "\n",
    "    # Twilio phone number (bought or verified in Twilio)\n",
    "    twilio_phone_number = \"+14139615530\"  # Your Twilio phone number\n",
    "\n",
    "    # Initialize Twilio client\n",
    "    client = Client(account_sid, auth_token)\n",
    "\n",
    "    # Format recipient's phone number with Egypt country code\n",
    "    recipient_phone_number = '+2' + recipient_phone_number\n",
    "\n",
    "    # Send SMS\n",
    "    message = client.messages.create(\n",
    "        body=message,\n",
    "        from_=twilio_phone_number,\n",
    "        to=recipient_phone_number\n",
    "    )\n",
    "\n",
    "    print(\"SMS sent successfully!\")\n",
    "\n",
    "# Example usage:\n",
    "#message = 'Hello from Twilio!'\n",
    "#recipient_phone_number = '1234567890'  # Replace with recipient's phone number\n",
    "#send_sms(message, recipient_phone_number)\n"
   ]
  },
  {
   "cell_type": "markdown",
   "id": "cdaa3d5b",
   "metadata": {},
   "source": [
    "{\"HomeId\":1,\"RoomId\":1,\"DateTime\":\"2024-02-09T12:00:00\",\"ImagePath\": \"C:\\\\Users\\\\TEMP\\\\Desktop\\\\image_0.jpg\"}"
   ]
  },
  {
   "cell_type": "code",
   "execution_count": null,
   "id": "6c7ab457",
   "metadata": {},
   "outputs": [],
   "source": []
  },
  {
   "cell_type": "code",
   "execution_count": null,
   "id": "cb4a16ed",
   "metadata": {},
   "outputs": [],
   "source": []
  },
  {
   "cell_type": "markdown",
   "id": "48f60aa2",
   "metadata": {},
   "source": [
    "# Kafka"
   ]
  },
  {
   "cell_type": "code",
   "execution_count": null,
   "id": "d2462d91",
   "metadata": {},
   "outputs": [
    {
     "name": "stdout",
     "output_type": "stream",
     "text": [
      "Received message: b'{\"HomeId\":1,\"RoomId\":1,\"DateTime\":\"2024-02-09T12:00:00\",\"ImagePath\": \"C:\\\\\\\\Users\\\\\\\\AL-FAJR\\\\\\\\Desktop\\\\\\\\New folder (3)\\\\\\\\Last_GP\\\\\\\\FIRE-SMOKE-DATASET\\\\\\\\Test.2\\\\\\\\image_71.jpg\"}'\n",
      "1/1 [==============================] - 1s 535ms/step\n",
      "Processed message: {'HomeId': 1, 'RoomId': 1, 'DateTime': '2024-02-09T12:00:00', 'ImagePath': 'C:\\\\Users\\\\AL-FAJR\\\\Desktop\\\\New folder (3)\\\\Last_GP\\\\FIRE-SMOKE-DATASET\\\\Test.2\\\\image_71.jpg', 'probability': 1.0, 'class_name': 'non_fire_images'}\n"
     ]
    }
   ],
   "source": [
    "# Consume messages from Kafka\n",
    "for message in consumer:\n",
    "    try:\n",
    "        # Check if the message is empty\n",
    "        if not message.value:\n",
    "            print(\"Ignoring empty message.\")\n",
    "            continue\n",
    "\n",
    "        # Print the content of the message\n",
    "        print(\"Received message:\", message.value)\n",
    "\n",
    "        # Parse message as JSON\n",
    "        data_dict = json.loads(message.value.decode('utf-8'))\n",
    "\n",
    "        # Extract fields from the JSON\n",
    "        HomeId = data_dict['HomeId']\n",
    "        RoomId = data_dict['RoomId']\n",
    "        DateTime = data_dict['DateTime']\n",
    "        ImagePath = data_dict['ImagePath']\n",
    "\n",
    "        # Read image from folder\n",
    "        image_path = os.path.join(data_dict['ImagePath'])\n",
    "        image = Image.open(image_path)\n",
    "\n",
    "        # Preprocess image for VGG16\n",
    "        image = image.resize((224, 224))\n",
    "        image = image.convert('RGB')\n",
    "        image_array = preprocess_input(np.array(image))\n",
    "        image_array = np.expand_dims(image_array, axis=0)\n",
    "\n",
    "        # Classify the image\n",
    "        prediction = save_model.predict(image_array)\n",
    "        class_index = np.where(prediction >= 0.5, 1, 0)[0][0]\n",
    "        class_name = class_names[class_index]\n",
    "        probability = float(prediction)\n",
    "        if (class_name==\"fire_images\"):\n",
    "            IsRead = \"0\" \n",
    "            session.execute(f\"INSERT INTO {cassandra_table} (id,homeId,isRead ,roomId, class_name, image_Path, DateTime) VALUES (uuid(),{HomeId},'{IsRead}',{RoomId}, '{class_name}', '{image_path}', '{DateTime}')\")\n",
    "            phone_number, email = get_data(HomeId)\n",
    "            send_email(email)\n",
    "            #send_sms(phone_number)\n",
    "         # query = f\"INSERT INTO {cassandra_table} (id, homeId, isRead, roomId, class_name, image_Path, DateTime) VALUES (uuid(), ?, ?, ?, ?, ?, ?)\"\n",
    "         # print(\"Query:\", query)\n",
    "         # print(\"Arguments:\", (HomeId, IsRead, RoomId, class_name, image_path, DateTime))\n",
    "         # session.execute(query, (HomeId, IsRead, RoomId, class_name, image_path, DateTime))\n",
    "        \n",
    "        # Publish data to another Kafka topic\n",
    "        data_dict['probability'] = probability\n",
    "        data_dict['class_name'] = class_name\n",
    "        #data_dict['IsRead'] = IsRead\n",
    "\n",
    "        # Convert the dictionary to JSON\n",
    "        json_data = json.dumps(data_dict)\n",
    "\n",
    "        # Send the JSON data to the output topic\n",
    "        producer.send(output_topic, value=json_data.encode('utf-8'))\n",
    "\n",
    "        print(\"Processed message:\", data_dict)\n",
    "\n",
    "    except Exception as e:\n",
    "        print(\"Error processing message:\", e)\n",
    "\n",
    "# Close Kafka producer and consumer\n",
    "producer.close()\n",
    "consumer.close()\n"
   ]
  },
  {
   "cell_type": "code",
   "execution_count": null,
   "id": "7fe940eb",
   "metadata": {},
   "outputs": [],
   "source": [
    "\n"
   ]
  },
  {
   "cell_type": "code",
   "execution_count": null,
   "id": "4749fda9",
   "metadata": {},
   "outputs": [],
   "source": [
    "\n"
   ]
  },
  {
   "cell_type": "code",
   "execution_count": null,
   "id": "b077b599",
   "metadata": {},
   "outputs": [],
   "source": [
    "\n"
   ]
  },
  {
   "cell_type": "code",
   "execution_count": null,
   "id": "f72a82cb",
   "metadata": {},
   "outputs": [],
   "source": []
  },
  {
   "cell_type": "code",
   "execution_count": null,
   "id": "71e60df6",
   "metadata": {},
   "outputs": [],
   "source": []
  }
 ],
 "metadata": {
  "kernelspec": {
   "display_name": "Python 3 (ipykernel)",
   "language": "python",
   "name": "python3"
  },
  "language_info": {
   "codemirror_mode": {
    "name": "ipython",
    "version": 3
   },
   "file_extension": ".py",
   "mimetype": "text/x-python",
   "name": "python",
   "nbconvert_exporter": "python",
   "pygments_lexer": "ipython3",
   "version": "3.10.9"
  }
 },
 "nbformat": 4,
 "nbformat_minor": 5
}
