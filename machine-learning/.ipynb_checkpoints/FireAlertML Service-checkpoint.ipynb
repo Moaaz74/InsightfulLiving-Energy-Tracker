{
 "cells": [
  {
   "cell_type": "markdown",
   "id": "779b73ed",
   "metadata": {},
   "source": [
    "# Imports "
   ]
  },
  {
   "cell_type": "code",
   "execution_count": 1,
   "id": "9005ec78",
   "metadata": {},
   "outputs": [
    {
     "name": "stdout",
     "output_type": "stream",
     "text": [
      "WARNING:tensorflow:From C:\\Users\\TEMP\\anaconda3\\lib\\site-packages\\keras\\src\\losses.py:2976: The name tf.losses.sparse_softmax_cross_entropy is deprecated. Please use tf.compat.v1.losses.sparse_softmax_cross_entropy instead.\n",
      "\n"
     ]
    }
   ],
   "source": [
    "import cv2\n",
    "import os\n",
    "import numpy as np\n",
    "import json\n",
    "from kafka import KafkaProducer, KafkaConsumer\n",
    "from cassandra.cluster import Cluster\n",
    "from PIL import Image\n",
    "import tensorflow as tf\n",
    "from tensorflow.keras.applications.vgg16 import VGG16\n",
    "from tensorflow.keras.applications.vgg16 import preprocess_input\n",
    "import schedule\n",
    "import time\n",
    "import base64\n",
    "import io\n",
    "import requests\n",
    "from keras.applications.vgg16 import VGG16  # Assuming you want to use Keras VGG16\n",
    "from cassandra.util import uuid_from_time"
   ]
  },
  {
   "cell_type": "markdown",
   "id": "a67f458b",
   "metadata": {},
   "source": [
    "# configuration"
   ]
  },
  {
   "cell_type": "code",
   "execution_count": 2,
   "id": "8944e534",
   "metadata": {},
   "outputs": [
    {
     "name": "stdout",
     "output_type": "stream",
     "text": [
      "WARNING:tensorflow:From C:\\Users\\TEMP\\anaconda3\\lib\\site-packages\\keras\\src\\backend.py:1398: The name tf.executing_eagerly_outside_functions is deprecated. Please use tf.compat.v1.executing_eagerly_outside_functions instead.\n",
      "\n",
      "WARNING:tensorflow:From C:\\Users\\TEMP\\anaconda3\\lib\\site-packages\\keras\\src\\layers\\pooling\\max_pooling2d.py:161: The name tf.nn.max_pool is deprecated. Please use tf.nn.max_pool2d instead.\n",
      "\n"
     ]
    }
   ],
   "source": [
    "# Kafka configuration\n",
    "bootstrap_servers = 'localhost:9092'\n",
    "input_topic = 'photo-topic'\n",
    "output_topic = 'output_topic_net'\n",
    "\n",
    "# Cassandra configuration\n",
    "cassandra_host = 'localhost'\n",
    "cassandra_keyspace = 'Photos'\n",
    "cassandra_table = 'photosFires'\n",
    "\n",
    "# Connect to Kafka\n",
    "consumer = KafkaConsumer(bootstrap_servers=bootstrap_servers)\n",
    "consumer.subscribe([input_topic])\n",
    "\n",
    "# Kafka producer\n",
    "producer = KafkaProducer(bootstrap_servers=bootstrap_servers)\n",
    "\n",
    "\n",
    "# Load the saved model\n",
    "save_model = tf.keras.models.load_model(r'C:\\Users\\TEMP\\Desktop\\New folder (3)\\Last_GP\\GP_Model\\my_keras_model.h5')\n",
    "class_names = ['fire_images', 'non_fire_images']\n",
    "#image_folder = r\"C:\\Users\\AL-FAJR\\Desktop\\Last_GP\\FIRE-SMOKE-DATASET\\Test\\Neutral\""
   ]
  },
  {
   "cell_type": "markdown",
   "id": "aed2eb11",
   "metadata": {},
   "source": [
    "# Cassandra"
   ]
  },
  {
   "cell_type": "code",
   "execution_count": 6,
   "id": "ccfce14b",
   "metadata": {},
   "outputs": [
    {
     "data": {
      "text/plain": [
       "<cassandra.cluster.ResultSet at 0x2156c2db7c0>"
      ]
     },
     "execution_count": 6,
     "metadata": {},
     "output_type": "execute_result"
    }
   ],
   "source": [
    "from cassandra.cluster import Cluster\n",
    "\n",
    "# Connect to Cassandra cluster\n",
    "cluster = Cluster(['127.0.0.1'])  # Provide contact points for your Cassandra cluster\n",
    "session = cluster.connect()\n",
    "\n",
    "# Define keyspace and table names\n",
    "cassandra_keyspace = 'your_keyspace_name'\n",
    "cassandra_table = 'your_table_name'\n",
    "\n",
    "# Create keyspace if it doesn't exist\n",
    "session.execute(f\"CREATE KEYSPACE IF NOT EXISTS {cassandra_keyspace} WITH REPLICATION = {{ 'class' : 'SimpleStrategy', 'replication_factor' : 1 }}\")\n",
    "\n",
    "# Set the keyspace\n",
    "session.set_keyspace(cassandra_keyspace)\n",
    "\n",
    "# Create table if it doesn't exist\n",
    "session.execute(f\"CREATE TABLE IF NOT EXISTS {cassandra_table} (id UUID ,homeId INT,isRead Text,roomId INT, class_name TEXT , image_Path TEXT , DateTime TIMESTAMP, PRIMARY KEY (homeid,id))\")\n"
   ]
  },
  {
   "cell_type": "markdown",
   "id": "cdaa3d5b",
   "metadata": {},
   "source": [
    "{\"HomeId\":1,\"RoomId\":1,\"DateTime\":\"2024-02-09T12:00:00\",\"ImagePath\": \"C:\\\\Users\\\\TEMP\\\\Desktop\\\\image_0.jpg\"}"
   ]
  },
  {
   "cell_type": "markdown",
   "id": "48f60aa2",
   "metadata": {},
   "source": [
    "# Kafka"
   ]
  },
  {
   "cell_type": "code",
   "execution_count": null,
   "id": "d2462d91",
   "metadata": {},
   "outputs": [
    {
     "name": "stdout",
     "output_type": "stream",
     "text": [
      "Received message: b'{\"HomeId\":1,\"RoomId\":1,\"DateTime\":\"2024-02-09T12:00:00\",\"ImagePath\": \"C:\\\\\\\\Users\\\\\\\\TEMP\\\\\\\\Desktop\\\\\\\\image_0.jpg\"}'\n",
      "1/1 [==============================] - 1s 827ms/step\n",
      "Processed message: {'HomeId': 1, 'RoomId': 1, 'DateTime': '2024-02-09T12:00:00', 'ImagePath': 'C:\\\\Users\\\\TEMP\\\\Desktop\\\\image_0.jpg', 'probability': 6.313887672242113e-13, 'class_name': 'fire_images'}\n",
      "Received message: b'{\"HomeId\":1,\"RoomId\":1,\"DateTime\":\"2024-02-09T12:00:00\",\"ImagePath\": \"C:\\\\\\\\Users\\\\\\\\TEMP\\\\\\\\Desktop\\\\\\\\image_0.jpg\"}'\n",
      "1/1 [==============================] - 0s 176ms/step\n",
      "Processed message: {'HomeId': 1, 'RoomId': 1, 'DateTime': '2024-02-09T12:00:00', 'ImagePath': 'C:\\\\Users\\\\TEMP\\\\Desktop\\\\image_0.jpg', 'probability': 6.313887672242113e-13, 'class_name': 'fire_images'}\n"
     ]
    }
   ],
   "source": [
    "# Consume messages from Kafka\n",
    "for message in consumer:\n",
    "    try:\n",
    "        # Check if the message is empty\n",
    "        if not message.value:\n",
    "            print(\"Ignoring empty message.\")\n",
    "            continue\n",
    "\n",
    "        # Print the content of the message\n",
    "        print(\"Received message:\", message.value)\n",
    "\n",
    "        # Parse message as JSON\n",
    "        data_dict = json.loads(message.value.decode('utf-8'))\n",
    "\n",
    "        # Extract fields from the JSON\n",
    "        HomeId = data_dict['HomeId']\n",
    "        RoomId = data_dict['RoomId']\n",
    "        DateTime = data_dict['DateTime']\n",
    "        ImagePath = data_dict['ImagePath']\n",
    "\n",
    "        # Read image from folder\n",
    "        image_path = os.path.join(data_dict['ImagePath'])\n",
    "        image = Image.open(image_path)\n",
    "\n",
    "        # Preprocess image for VGG16\n",
    "        image = image.resize((224, 224))\n",
    "        image = image.convert('RGB')\n",
    "        image_array = preprocess_input(np.array(image))\n",
    "        image_array = np.expand_dims(image_array, axis=0)\n",
    "\n",
    "        # Classify the image\n",
    "        prediction = save_model.predict(image_array)\n",
    "        class_index = np.where(prediction >= 0.5, 1, 0)[0][0]\n",
    "        class_name = class_names[class_index]\n",
    "        probability = float(prediction)\n",
    "        if (class_name==\"fire_images\"):\n",
    "            IsRead = \"0\" \n",
    "            session.execute(f\"INSERT INTO {cassandra_table} (id,homeId,isRead ,roomId, class_name, image_Path, DateTime) VALUES (uuid(),{HomeId},'{IsRead}',{RoomId}, '{class_name}', '{image_path}', '{DateTime}')\")\n",
    "         # query = f\"INSERT INTO {cassandra_table} (id, homeId, isRead, roomId, class_name, image_Path, DateTime) VALUES (uuid(), ?, ?, ?, ?, ?, ?)\"\n",
    "         # print(\"Query:\", query)\n",
    "         # print(\"Arguments:\", (HomeId, IsRead, RoomId, class_name, image_path, DateTime))\n",
    "         # session.execute(query, (HomeId, IsRead, RoomId, class_name, image_path, DateTime))\n",
    "        \n",
    "        # Publish data to another Kafka topic\n",
    "        data_dict['probability'] = probability\n",
    "        data_dict['class_name'] = class_name\n",
    "        #data_dict['IsRead'] = IsRead\n",
    "\n",
    "        # Convert the dictionary to JSON\n",
    "        json_data = json.dumps(data_dict)\n",
    "\n",
    "        # Send the JSON data to the output topic\n",
    "        producer.send(output_topic, value=json_data.encode('utf-8'))\n",
    "\n",
    "        print(\"Processed message:\", data_dict)\n",
    "\n",
    "    except Exception as e:\n",
    "        print(\"Error processing message:\", e)\n",
    "\n",
    "# Close Kafka producer and consumer\n",
    "producer.close()\n",
    "consumer.close()\n"
   ]
  },
  {
   "cell_type": "code",
   "execution_count": null,
   "id": "7fe940eb",
   "metadata": {},
   "outputs": [],
   "source": [
    "\n"
   ]
  },
  {
   "cell_type": "code",
   "execution_count": null,
   "id": "4749fda9",
   "metadata": {},
   "outputs": [],
   "source": []
  },
  {
   "cell_type": "code",
   "execution_count": null,
   "id": "b077b599",
   "metadata": {},
   "outputs": [],
   "source": [
    "\n"
   ]
  },
  {
   "cell_type": "code",
   "execution_count": 2,
   "id": "f72a82cb",
   "metadata": {},
   "outputs": [
    {
     "name": "stdout",
     "output_type": "stream",
     "text": [
      "Collecting schedule\n",
      "  Downloading schedule-1.2.1-py2.py3-none-any.whl (11 kB)\n",
      "Installing collected packages: schedule\n",
      "Successfully installed schedule-1.2.1\n",
      "Note: you may need to restart the kernel to use updated packages.\n"
     ]
    },
    {
     "name": "stderr",
     "output_type": "stream",
     "text": [
      "WARNING: There was an error checking the latest version of pip.\n"
     ]
    }
   ],
   "source": [
    "pip install schedule"
   ]
  },
  {
   "cell_type": "code",
   "execution_count": null,
   "id": "71e60df6",
   "metadata": {},
   "outputs": [],
   "source": []
  }
 ],
 "metadata": {
  "kernelspec": {
   "display_name": "Python 3 (ipykernel)",
   "language": "python",
   "name": "python3"
  },
  "language_info": {
   "codemirror_mode": {
    "name": "ipython",
    "version": 3
   },
   "file_extension": ".py",
   "mimetype": "text/x-python",
   "name": "python",
   "nbconvert_exporter": "python",
   "pygments_lexer": "ipython3",
   "version": "3.10.9"
  }
 },
 "nbformat": 4,
 "nbformat_minor": 5
}
